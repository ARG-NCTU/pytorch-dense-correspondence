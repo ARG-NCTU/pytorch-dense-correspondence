{
 "cells": [
  {
   "cell_type": "code",
   "execution_count": null,
   "metadata": {},
   "outputs": [],
   "source": [
    "%%javascript\n",
    "IPython.OutputArea.auto_scroll_threshold = 9999;"
   ]
  },
  {
   "cell_type": "code",
   "execution_count": null,
   "metadata": {},
   "outputs": [],
   "source": [
    "from spartan_dataset_masked import SpartanDataset\n",
    "import dense_correspondence_manipulation.utils.utils as utils\n",
    "import os\n",
    "%matplotlib inline\n",
    "\n",
    "dataset_config_filename = os.path.join(utils.getDenseCorrespondenceSourceDir(), 'config', 'dense_correspondence',\n",
    "                                       'dataset',\n",
    "                                       '7_hats.yaml')\n",
    "\n",
    "dataset_config = utils.getDictFromYamlFilename(dataset_config_filename)\n",
    "\n",
    "lf = SpartanDataset(debug=True, config=dataset_config)\n",
    "\n",
    "for i in range(10):\n",
    "    data = lf[i]\n",
    "    "
   ]
  },
  {
   "cell_type": "code",
   "execution_count": null,
   "metadata": {},
   "outputs": [],
   "source": [
    "from labelfusion_masked import LabelFusionDataset\n",
    "\n",
    "%matplotlib inline\n",
    "\n",
    "lf = LabelFusionDataset(debug=True)\n",
    "\n",
    "for i in range(10):\n",
    "    data = lf[i]"
   ]
  }
 ],
 "metadata": {
  "kernelspec": {
   "display_name": "Python 2",
   "language": "python",
   "name": "python2"
  },
  "language_info": {
   "codemirror_mode": {
    "name": "ipython",
    "version": 2
   },
   "file_extension": ".py",
   "mimetype": "text/x-python",
   "name": "python",
   "nbconvert_exporter": "python",
   "pygments_lexer": "ipython2",
   "version": "2.7.12"
  }
 },
 "nbformat": 4,
 "nbformat_minor": 2
}
