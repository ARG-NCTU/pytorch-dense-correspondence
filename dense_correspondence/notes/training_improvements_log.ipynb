{
 "cells": [
  {
   "cell_type": "markdown",
   "metadata": {},
   "source": [
    "# Training Improvements Log\n",
    "This document records significant improvements that have been made to the training procedure that have resulted in big increases in performance.\n",
    "\n",
    "## Improvements\n",
    "\n",
    "\n",
    "- 4/16/17: improvements to data augmentation procedures.\n",
    "    - Only apply operations that preserve \"realness\", i.e. 180 degree rotations are ok, but mirrors/flips are not ok.\n",
    "    - Having \"mirrors\" is part of what was leading the caterpillar to come out symmetric.\n",
    "- 4/16/17: Add L2 terms to the loss function for non-matches.\n",
    "- 4/16/17: Add more pose variety in the data collection procedure by randomizing the position of joint 7.\n",
    "\n",
    "Together these improvements led to us being able to \"qualitatively\" distinguish left from right in the caterpillar scenes. ![alt text](caterpillar_left_right.png \"Caterpillar\")\n",
    "\n",
    "- 4/20/17: Add image pre-processing normalization, i.e. zero mean and std dev. This was a huge increase in performance. Now we are getting much more detail on the caterpillar in terms of specific features, like the ears etc. ![alt text](caterpillar.png \"Caterpillar\")\n",
    "\n"
   ]
  },
  {
   "cell_type": "markdown",
   "metadata": {},
   "source": []
  }
 ],
 "metadata": {
  "kernelspec": {
   "display_name": "Python 2",
   "language": "python",
   "name": "python2"
  },
  "language_info": {
   "codemirror_mode": {
    "name": "ipython",
    "version": 2
   },
   "file_extension": ".py",
   "mimetype": "text/x-python",
   "name": "python",
   "nbconvert_exporter": "python",
   "pygments_lexer": "ipython2",
   "version": "2.7.12"
  }
 },
 "nbformat": 4,
 "nbformat_minor": 2
}
