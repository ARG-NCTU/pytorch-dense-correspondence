{
 "cells": [
  {
   "cell_type": "code",
   "execution_count": null,
   "metadata": {},
   "outputs": [],
   "source": [
    "import numpy as np\n",
    "import os\n",
    "import pandas as pd\n",
    "import sklearn.metrics as sm\n",
    "import scipy.stats as ss\n",
    "import matplotlib.pyplot as plt\n",
    "\n",
    "import dense_correspondence_manipulation.utils.utils as utils\n",
    "utils.add_dense_correspondence_to_python_path()\n",
    "\n",
    "from dense_correspondence.evaluation.evaluation import DenseCorrespondenceEvaluationPlotter as DCEP"
   ]
  },
  {
   "cell_type": "code",
   "execution_count": null,
   "metadata": {},
   "outputs": [],
   "source": [
    "p = DCEP()\n",
    "dc_source_dir = utils.getDenseCorrespondenceSourceDir()\n",
    "\n",
    "network_name = \"caterpillar_image_normalization\"\n",
    "path_to_csv = os.path.join(dc_source_dir, \"data_volume\", \"pdc\", \"analysis\", network_name, \"train/data.csv\")\n",
    "fig_axes = DCEP.run_on_single_dataframe(path_to_csv, label=network_name, save=False)\n",
    "\n",
    "network_name = \"10_caterpillar_scenes\"\n",
    "path_to_csv = os.path.join(dc_source_dir, \"data_volume\", \"pdc\", \"analysis\", network_name, \"train/data.csv\")\n",
    "fig_axes = DCEP.run_on_single_dataframe(path_to_csv, label=network_name, previous_fig_axes=fig_axes, save=False)\n",
    "\n",
    "network_name = \"10_caterpillar_scenes_with_flipping_12d\"\n",
    "path_to_csv = os.path.join(dc_source_dir, \"data_volume\", \"pdc\", \"analysis\", network_name, \"train/data.csv\")\n",
    "fig_axes = DCEP.run_on_single_dataframe(path_to_csv, label=network_name, previous_fig_axes=fig_axes, save=False)\n",
    "\n",
    "network_name = \"17_caterpillar_scenes_with_rotation_l2\"\n",
    "path_to_csv = os.path.join(dc_source_dir, \"data_volume\", \"pdc\", \"analysis\", network_name, \"train/data.csv\")\n",
    "DCEP.run_on_single_dataframe(path_to_csv, label=network_name, previous_fig_axes=fig_axes, save=True)\n",
    "\n",
    "_, axes = fig_axes\n",
    "axes[0].set_title(\"Training Set\")\n",
    "plt.show()"
   ]
  },
  {
   "cell_type": "code",
   "execution_count": null,
   "metadata": {},
   "outputs": [],
   "source": [
    "p = DCEP()\n",
    "dc_source_dir = utils.getDenseCorrespondenceSourceDir()\n",
    "\n",
    "network_name = \"caterpillar_image_normalization\"\n",
    "path_to_csv = os.path.join(dc_source_dir, \"data_volume\", \"pdc\", \"analysis\", network_name, \"test/data.csv\")\n",
    "fig_axes = DCEP.run_on_single_dataframe(path_to_csv, label=network_name, save=False)\n",
    "\n",
    "network_name = \"10_caterpillar_scenes\"\n",
    "path_to_csv = os.path.join(dc_source_dir, \"data_volume\", \"pdc\", \"analysis\", network_name, \"test/data.csv\")\n",
    "fig_axes = DCEP.run_on_single_dataframe(path_to_csv, label=network_name, previous_fig_axes=fig_axes)\n",
    "\n",
    "network_name = \"10_caterpillar_scenes_with_flipping_12d\"\n",
    "path_to_csv = os.path.join(dc_source_dir, \"data_volume\", \"pdc\", \"analysis\", network_name, \"test/data.csv\")\n",
    "fig_axes = DCEP.run_on_single_dataframe(path_to_csv, label=network_name, previous_fig_axes=fig_axes, save=False)\n",
    "\n",
    "network_name = \"17_caterpillar_scenes_with_rotation_l2\"\n",
    "path_to_csv = os.path.join(dc_source_dir, \"data_volume\", \"pdc\", \"analysis\", network_name, \"test/data.csv\")\n",
    "DCEP.run_on_single_dataframe(path_to_csv, label=network_name, previous_fig_axes=fig_axes, save=True)\n",
    "\n",
    "_, axes = fig_axes\n",
    "axes[0].set_title(\"Test Set\")\n",
    "plt.show()"
   ]
  },
  {
   "cell_type": "code",
   "execution_count": null,
   "metadata": {},
   "outputs": [],
   "source": []
  },
  {
   "cell_type": "code",
   "execution_count": null,
   "metadata": {},
   "outputs": [],
   "source": []
  }
 ],
 "metadata": {
  "kernelspec": {
   "display_name": "Python 2",
   "language": "python",
   "name": "python2"
  },
  "language_info": {
   "codemirror_mode": {
    "name": "ipython",
    "version": 2
   },
   "file_extension": ".py",
   "mimetype": "text/x-python",
   "name": "python",
   "nbconvert_exporter": "python",
   "pygments_lexer": "ipython2",
   "version": "2.7.12"
  }
 },
 "nbformat": 4,
 "nbformat_minor": 2
}
