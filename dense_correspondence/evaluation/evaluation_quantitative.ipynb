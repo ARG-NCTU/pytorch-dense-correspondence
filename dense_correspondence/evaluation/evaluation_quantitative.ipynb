{
 "cells": [
  {
   "cell_type": "code",
   "execution_count": null,
   "metadata": {},
   "outputs": [],
   "source": [
    "import dense_correspondence_manipulation.utils.utils as utils\n",
    "import os\n",
    "\n",
    "utils.add_dense_correspondence_to_python_path()\n",
    "utils.set_cuda_visible_devices([0])\n",
    "\n",
    "from dense_correspondence.evaluation.evaluation import DenseCorrespondenceEvaluation\n",
    "from dense_correspondence.dataset.spartan_dataset_masked import SpartanDataset\n",
    "import logging\n",
    "logging.basicConfig(level=logging.INFO)\n",
    "\n",
    "import pandas as pd\n",
    "import numpy as np\n",
    "import time\n"
   ]
  },
  {
   "cell_type": "code",
   "execution_count": null,
   "metadata": {},
   "outputs": [],
   "source": [
    "eval_config_filename = os.path.join(utils.getDenseCorrespondenceSourceDir(), 'config', 'dense_correspondence',\n",
    "                                    'evaluation',\n",
    "                                    'pete_evaluation.yaml')\n",
    "eval_config = utils.getDictFromYamlFilename(eval_config_filename)\n",
    "dce = DenseCorrespondenceEvaluation(eval_config)\n",
    "dcn = dce.load_network_from_config(\"6e-5_lr\")"
   ]
  },
  {
   "cell_type": "code",
   "execution_count": null,
   "metadata": {},
   "outputs": [],
   "source": [
    "dataset_config_filename = os.path.join(utils.getDenseCorrespondenceSourceDir(), 'config', 'dense_correspondence',\n",
    "                                       'dataset',\n",
    "                                       'spartan_dataset_masked.yaml')\n",
    "\n",
    "dataset_config = utils.getDictFromYamlFilename(dataset_config_filename)\n",
    "\n",
    "dataset = SpartanDataset(mode=\"test\", config=dataset_config)\n",
    "\n",
    "scene_name = '05_drill_long_downsampled'\n",
    "img_idx_a = utils.getPaddedString(0)\n",
    "img_idx_b = utils.getPaddedString(923)\n",
    "df_list_single = dce.single_image_pair_quantitative_analysis(dcn, dataset, scene_name, img_idx_a,\n",
    "                                                          img_idx_b,\n",
    "                                                          num_matches=1,\n",
    "                                                          debug=True)\n"
   ]
  },
  {
   "cell_type": "code",
   "execution_count": null,
   "metadata": {},
   "outputs": [],
   "source": [
    "dce.evaluate_single_network('6e-5_lr')"
   ]
  },
  {
   "cell_type": "code",
   "execution_count": null,
   "metadata": {},
   "outputs": [],
   "source": [
    "dce.evaluate_single_network('6e-5_lr', mode=\"test\")"
   ]
  }
 ],
 "metadata": {
  "kernelspec": {
   "display_name": "Python 2",
   "language": "python",
   "name": "python2"
  },
  "language_info": {
   "codemirror_mode": {
    "name": "ipython",
    "version": 2
   },
   "file_extension": ".py",
   "mimetype": "text/x-python",
   "name": "python",
   "nbconvert_exporter": "python",
   "pygments_lexer": "ipython2",
   "version": "2.7.12"
  }
 },
 "nbformat": 4,
 "nbformat_minor": 2
}
