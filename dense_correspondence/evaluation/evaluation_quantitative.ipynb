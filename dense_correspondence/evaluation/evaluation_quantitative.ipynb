{
 "cells": [
  {
   "cell_type": "code",
   "execution_count": null,
   "metadata": {},
   "outputs": [],
   "source": [
    "import dense_correspondence_manipulation.utils.utils as utils\n",
    "import os\n",
    "\n",
    "utils.add_dense_correspondence_to_python_path()\n",
    "utils.set_cuda_visible_devices([0])\n",
    "\n",
    "from dense_correspondence.evaluation.evaluation import DenseCorrespondenceEvaluation\n",
    "from dense_correspondence.dataset.spartan_dataset_masked import SpartanDataset\n",
    "import logging\n",
    "logging.basicConfig(level=logging.INFO)\n",
    "\n",
    "import pandas\n",
    "import numpy as np\n",
    "import time\n"
   ]
  },
  {
   "cell_type": "code",
   "execution_count": null,
   "metadata": {},
   "outputs": [],
   "source": [
    "dce = DenseCorrespondenceEvaluation.make_default()\n",
    "\n",
    "config_file = os.path.join(utils.getDenseCorrespondenceSourceDir(), 'config', 'dense_correspondence', 'dataset',\n",
    "                          'spartan_dataset_masked.yaml')\n",
    "\n",
    "config = utils.getDictFromYamlFilename(config_file)\n",
    "\n",
    "dataset = SpartanDataset(mode=\"test\", config=config)\n",
    "dcn = dce.load_network_from_config(\"10_scenes_drill\")"
   ]
  },
  {
   "cell_type": "code",
   "execution_count": null,
   "metadata": {},
   "outputs": [],
   "source": [
    "start_time = time.time()\n",
    "scene_name = '05_drill_long_downsampled'\n",
    "img_idx_a = utils.getPaddedString(0)\n",
    "img_idx_b = utils.getPaddedString(923)\n",
    "df = dce.single_image_pair_quantitative_analysis(dcn, dataset, scene_name, img_idx_a, img_idx_b, debug=True)\n",
    "\n",
    "end_time = time.time()\n",
    "print \"computation took %s seconds\" %(end_time - start_time)"
   ]
  }
 ],
 "metadata": {
  "kernelspec": {
   "display_name": "Python 2",
   "language": "python",
   "name": "python2"
  },
  "language_info": {
   "codemirror_mode": {
    "name": "ipython",
    "version": 2
   },
   "file_extension": ".py",
   "mimetype": "text/x-python",
   "name": "python",
   "nbconvert_exporter": "python",
   "pygments_lexer": "ipython2",
   "version": "2.7.12"
  }
 },
 "nbformat": 4,
 "nbformat_minor": 2
}
