{
 "cells": [
  {
   "cell_type": "code",
   "execution_count": null,
   "metadata": {},
   "outputs": [],
   "source": [
    "import dense_correspondence_manipulation.utils.utils as utils\n",
    "import os\n",
    "\n",
    "utils.add_dense_correspondence_to_python_path()\n",
    "utils.set_cuda_visible_devices([0])\n",
    "\n",
    "from dense_correspondence.evaluation.evaluation import DenseCorrespondenceEvaluation\n",
    "from dense_correspondence.dataset.spartan_dataset_masked import SpartanDataset\n",
    "import logging\n",
    "logging.basicConfig(level=logging.INFO)\n",
    "\n",
    "import pandas as pd\n",
    "import numpy as np\n",
    "import time\n"
   ]
  },
  {
   "cell_type": "code",
   "execution_count": null,
   "metadata": {},
   "outputs": [],
   "source": [
    "dce = DenseCorrespondenceEvaluation.make_default()\n",
    "dcn = dce.load_network_from_config(\"10_scenes_drill\")\n",
    "\n",
    "config_file = os.path.join(utils.getDenseCorrespondenceSourceDir(), 'config', 'dense_correspondence',\n",
    "                                       'dataset',\n",
    "                                       'spartan_dataset_masked_test.yaml')\n",
    "\n",
    "config = utils.getDictFromYamlFilename(config_file)\n",
    "\n",
    "dataset = SpartanDataset(mode=\"test\", config=config)\n",
    "\n",
    "scene_name = '05_drill_long_downsampled'\n",
    "img_idx_a = utils.getPaddedString(0)\n",
    "img_idx_b = utils.getPaddedString(923)\n",
    "df_list_single = dce.single_image_pair_quantitative_analysis(dcn, dataset, scene_name, img_idx_a,\n",
    "                                                          img_idx_b,\n",
    "                                                          num_matches=1,\n",
    "                                                          debug=True)\n"
   ]
  },
  {
   "cell_type": "code",
   "execution_count": null,
   "metadata": {},
   "outputs": [],
   "source": [
    "dce.evaluate_single_network('10_scenes_drill')"
   ]
  },
  {
   "cell_type": "code",
   "execution_count": null,
   "metadata": {},
   "outputs": [],
   "source": []
  }
 ],
 "metadata": {
  "kernelspec": {
   "display_name": "Python 2",
   "language": "python",
   "name": "python2"
  },
  "language_info": {
   "codemirror_mode": {
    "name": "ipython",
    "version": 2
   },
   "file_extension": ".py",
   "mimetype": "text/x-python",
   "name": "python",
   "nbconvert_exporter": "python",
   "pygments_lexer": "ipython2",
   "version": "2.7.12"
  }
 },
 "nbformat": 4,
 "nbformat_minor": 2
}
