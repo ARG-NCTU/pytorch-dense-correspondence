{
 "cells": [
  {
   "cell_type": "code",
   "execution_count": null,
   "metadata": {},
   "outputs": [],
   "source": [
    "%matplotlib inline\n",
    "\n",
    "import random\n",
    "import numpy as np\n",
    "import matplotlib.pyplot as plt\n",
    "import os\n",
    "import cv2\n",
    "import torch\n",
    "import dense_correspondence_manipulation.utils.utils as utils\n",
    "utils.add_dense_correspondence_to_python_path()\n",
    "\n",
    "import dense_correspondence\n",
    "from dense_correspondence.evaluation.evaluation import *\n",
    "import dense_correspondence.correspondence_tools.correspondence_plotter as correspondence_plotter\n",
    "from dense_correspondence.dataset.dense_correspondence_dataset_masked import ImageType"
   ]
  },
  {
   "cell_type": "code",
   "execution_count": null,
   "metadata": {},
   "outputs": [],
   "source": [
    "config_filename = os.path.join(utils.getDenseCorrespondenceSourceDir(), 'config', \n",
    "                               'dense_correspondence', 'evaluation', 'evaluation.yaml')\n",
    "config = utils.getDictFromYamlFilename(config_filename)\n",
    "default_config = utils.get_defaults_config()\n",
    "\n",
    "\n",
    "utils.set_cuda_visible_devices([0])\n",
    "dce = DenseCorrespondenceEvaluation(config)\n",
    "DCE = DenseCorrespondenceEvaluation\n",
    "\n",
    "\n",
    "\n",
    "network_name = \"3_hat_train_6_continue\"\n",
    "dcn = dce.load_network_from_config(network_name)\n",
    "dcn.eval()\n",
    "dataset = dcn.load_training_dataset()"
   ]
  },
  {
   "cell_type": "code",
   "execution_count": null,
   "metadata": {},
   "outputs": [],
   "source": [
    "from PIL import Image\n",
    "from plotting import normalize_descriptor\n",
    "import time\n",
    "\n",
    "## Usage:\n",
    "## change the full_rgb_only_path\n",
    "## run the full notebook\n",
    "\n",
    "full_rgb_only_path = \"/media/peteflo/3TBbackup/dense_correspondence/pdc/logs_special/2018-05-09-15-46-59/processed/rgb_only\"\n",
    "save_path = os.path.join(full_rgb_only_path, \"../descriptors_only_masked\")\n",
    "os.system(\"mkdir -p \"+ save_path)\n",
    "\n",
    "descriptor_image_stats = dcn.descriptor_image_stats\n",
    "\n",
    "for i in sorted(os.listdir(full_rgb_only_path)):\n",
    "    start = time.time()\n",
    "    if \"rgb.png\" not in i:\n",
    "        continue\n",
    "\n",
    "    rgb_filename = os.path.join(full_rgb_only_path, i)\n",
    "    rgb_a = Image.open(rgb_filename).convert('RGB')\n",
    "\n",
    "    # compute dense descriptors\n",
    "    # This takes in a PIL image!\n",
    "    rgb_a_tensor = dataset.rgb_image_to_tensor(rgb_a)\n",
    "\n",
    "    # these are Variables holding torch.FloatTensors, first grab the data, then convert to numpy\n",
    "    res_a = dcn.forward_single_image_tensor(rgb_a_tensor).data.cpu().numpy()\n",
    "\n",
    "    res_a = normalize_descriptor(res_a, descriptor_image_stats[\"mask_image\"])\n",
    "    save_file_name = os.path.join(save_path, i)\n",
    "    plt.imsave(save_file_name, res_a)\n",
    "    print \"forward and saving at rate\", time.time()-start\n",
    "\n",
    "\n",
    "plt.imshow(res_a)\n",
    "plt.show()"
   ]
  },
  {
   "cell_type": "code",
   "execution_count": null,
   "metadata": {},
   "outputs": [],
   "source": [
    "# best so far\n",
    "# ffmpeg -framerate 30 -pattern_type glob -i '*.png' -c:v libx264 -r 30 out.mp4"
   ]
  },
  {
   "cell_type": "code",
   "execution_count": null,
   "metadata": {},
   "outputs": [],
   "source": [
    "# make descriptor video\n",
    "os.system(\"cd \"+save_path+\" && ffmpeg -framerate 30 -pattern_type glob -i '*.png' -c:v libx264 -r 30 video_descriptors.mp4\")\n",
    "# make rgb video\n",
    "os.system(\"cd \"+full_rgb_only_path+\" && ffmpeg -framerate 30 -pattern_type glob -i '*.png' -c:v libx264 -r 30 video_rgb.mp4\")"
   ]
  },
  {
   "cell_type": "code",
   "execution_count": null,
   "metadata": {},
   "outputs": [],
   "source": [
    "# merge the videos!\n",
    "\n",
    "processed_path = os.path.dirname(full_rgb_only_path)\n",
    "rgb_video = os.path.join(full_rgb_only_path, \"video_rgb.mp4\")\n",
    "descriptors_video = os.path.join(save_path, \"video_descriptors.mp4\")\n",
    "\n",
    "cmd = \"cd \"+processed_path+\" && ffmpeg \\\n",
    "  -i \"+rgb_video +\" \\\n",
    "  -i \"+descriptors_video +\"\\\n",
    "  -filter_complex '[0:v]pad=iw*2:ih[int];[int][1:v]overlay=W/2:0[vid]' \\\n",
    "  -map [vid] \\\n",
    "  -c:v libx264 \\\n",
    "  -crf 23 \\\n",
    "  -preset veryfast \\\n",
    "  output.mp4\"\n",
    "\n",
    "print cmd\n",
    "os.system(cmd)"
   ]
  },
  {
   "cell_type": "code",
   "execution_count": null,
   "metadata": {},
   "outputs": [],
   "source": []
  },
  {
   "cell_type": "code",
   "execution_count": null,
   "metadata": {},
   "outputs": [],
   "source": []
  }
 ],
 "metadata": {
  "kernelspec": {
   "display_name": "Python 2",
   "language": "python",
   "name": "python2"
  },
  "language_info": {
   "codemirror_mode": {
    "name": "ipython",
    "version": 2
   },
   "file_extension": ".py",
   "mimetype": "text/x-python",
   "name": "python",
   "nbconvert_exporter": "python",
   "pygments_lexer": "ipython2",
   "version": "2.7.12"
  }
 },
 "nbformat": 4,
 "nbformat_minor": 2
}
