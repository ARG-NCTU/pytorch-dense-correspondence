{
 "cells": [
  {
   "cell_type": "markdown",
   "metadata": {},
   "source": [
    "# Bag of Tricks Figure\n",
    "\n",
    "Analyze the effects of our different \"tricks\".\n",
    "\n",
    "1. Sample matches off mask\n",
    "2. Scale by hard negatives\n",
    "3. L2 pixel loss on matches\n",
    "\n",
    "We will compare standard network, networks missing one trick only, and a network without any tricks (i.e same as Tanner Schmidt)"
   ]
  },
  {
   "cell_type": "code",
   "execution_count": null,
   "metadata": {},
   "outputs": [],
   "source": [
    "import numpy as np\n",
    "import os\n",
    "import fnmatch\n",
    "import pandas as pd\n",
    "import sklearn.metrics as sm\n",
    "import scipy.stats as ss\n",
    "import matplotlib.pyplot as plt\n",
    "import matplotlib\n",
    "\n",
    "import dense_correspondence_manipulation.utils.utils as utils\n",
    "utils.add_dense_correspondence_to_python_path()\n",
    "\n",
    "from dense_correspondence.evaluation.evaluation import DenseCorrespondenceEvaluationPlotter as DCEP"
   ]
  },
  {
   "cell_type": "code",
   "execution_count": null,
   "metadata": {},
   "outputs": [],
   "source": [
    "folder_name = \"trick_analysis\"\n",
    "path_to_nets = os.path.join(\"/home/manuelli/code/data_volume/pdc/trained_models\", folder_name)\n",
    "all_nets = sorted(os.listdir(path_to_nets))\n",
    "nets_to_plot = []\n",
    "matplotlib.rcParams.update({'font.size': 17})\n",
    "for net in all_nets:\n",
    "#     if \"no_dr\" in net:\n",
    "#         continue\n",
    "\n",
    "    \n",
    "    nets_to_plot.append(os.path.join(folder_name,net))\n",
    "\n",
    "    \n",
    "nets_list = []\n",
    "nets_to_plot = []\n",
    "nets_list.append(\"standard_3\")\n",
    "nets_list.append(\"dont_scale_hard_negatives_3\")\n",
    "nets_list.append(\"dont_sample_from_mask_3\")\n",
    "nets_list.append(\"no_tricks_3\")\n",
    "\n",
    "\n",
    "nets_dict = dict()\n",
    "nets_dict[\"standard-SO\"] = os.path.join(folder_name, \"standard_3\")\n",
    "nets_dict[\"no-hard-neg\"] = os.path.join(folder_name, \"dont_scale_hard_negatives_3\")\n",
    "nets_dict[\"no-masking\"] = os.path.join(folder_name, \"dont_sample_from_mask_3\")\n",
    "nets_dict[\"Schmidt\"] = os.path.join(folder_name, \"no_tricks_3\")\n",
    "\n",
    "\n",
    "net_order = [\"standard-SO\", \"no-hard-neg\", \"no-masking\", \"Schmidt\"]\n",
    "# print nets_to_plot\n",
    "print nets_to_plot\n",
    "# nets_to_plot = [\"starbot_1_train_3\"]"
   ]
  },
  {
   "cell_type": "markdown",
   "metadata": {},
   "source": [
    "# Training "
   ]
  },
  {
   "cell_type": "code",
   "execution_count": null,
   "metadata": {},
   "outputs": [],
   "source": [
    "# p = DCEP()\n",
    "# dc_source_dir = utils.getDenseCorrespondenceSourceDir()\n",
    "\n",
    "# network_name = nets_to_plot[0]\n",
    "# path_to_csv = os.path.join(dc_source_dir, \"data_volume\", \"pdc\", \"trained_models\", network_name, \"analysis/train/data.csv\")\n",
    "# fig_axes = DCEP.run_on_single_dataframe(path_to_csv, label=network_name, save=False)\n",
    "\n",
    "# for network_name in nets_to_plot[1:]:\n",
    "#     path_to_csv = os.path.join(dc_source_dir, \"data_volume\", \"pdc\", \"trained_models\", network_name, \"analysis/train/data.csv\")\n",
    "#     fig_axes = DCEP.run_on_single_dataframe(path_to_csv, label=network_name, previous_fig_axes=fig_axes, save=False)\n",
    "\n",
    "# _, axes = fig_axes\n",
    "# # axes[0].set_title(\"Training Set\")\n",
    "# plt.show()"
   ]
  },
  {
   "cell_type": "markdown",
   "metadata": {},
   "source": [
    "# Test"
   ]
  },
  {
   "cell_type": "code",
   "execution_count": null,
   "metadata": {},
   "outputs": [],
   "source": [
    "# p = DCEP()\n",
    "# dc_source_dir = utils.getDenseCorrespondenceSourceDir()\n",
    "\n",
    "# network_name = nets_to_plot[0]\n",
    "# path_to_csv = os.path.join(dc_source_dir, \"data_volume\", \"pdc\", \"trained_models\", network_name, \"analysis/test/data.csv\")\n",
    "# fig_axes = DCEP.run_on_single_dataframe(path_to_csv, label=network_name, save=False)\n",
    "\n",
    "# for network_name in nets_to_plot[1:]:\n",
    "#     path_to_csv = os.path.join(dc_source_dir, \"data_volume\", \"pdc\", \"trained_models\", network_name, \"analysis/test/data.csv\")\n",
    "#     fig_axes = DCEP.run_on_single_dataframe(path_to_csv, label=network_name, previous_fig_axes=fig_axes, save=False)\n",
    "\n",
    "# _, axes = fig_axes\n",
    "# # axes[0].set_title(\"Test Set\")\n",
    "# plt.show()"
   ]
  },
  {
   "cell_type": "markdown",
   "metadata": {},
   "source": [
    "## Cross Scene Single Object"
   ]
  },
  {
   "cell_type": "code",
   "execution_count": null,
   "metadata": {},
   "outputs": [],
   "source": [
    "p = DCEP()\n",
    "dc_source_dir = utils.getDenseCorrespondenceSourceDir()\n",
    "\n",
    "fig_axes = None\n",
    "for network_name in net_order:\n",
    "    folder = nets_dict[network_name]\n",
    "    path_to_csv = os.path.join(dc_source_dir, \"data_volume\", \"pdc\", \"trained_models\", folder, \n",
    "                               \"analysis/cross_scene/data.csv\")\n",
    "    if fig_axes is None:\n",
    "        fig_axes = DCEP.run_on_single_dataframe(path_to_csv, label=network_name, save=False)\n",
    "    else:\n",
    "        fig_axes = DCEP.run_on_single_dataframe(path_to_csv, label=network_name, previous_fig_axes=fig_axes, save=False)\n",
    "            \n",
    "        \n",
    "fig, axes = fig_axes\n",
    "fig.tight_layout()\n",
    "\n",
    "ax = axes[0,0]\n",
    "ax = ax.legend(prop={'size': 20})\n",
    "ax = axes[3,1]\n",
    "ax = ax.legend(prop={'size': 20})\n",
    "plt.show()\n",
    "\n"
   ]
  },
  {
   "cell_type": "code",
   "execution_count": null,
   "metadata": {},
   "outputs": [],
   "source": [
    "# fig, axes = fig_axes\n",
    "print type(fig)\n",
    "folder_name = os.path.join(\"figures\", \"tricks_quant_plots\")\n",
    "print folder_name\n",
    "fig.savefig(os.path.join(folder_name, \"tricks_quant_plots_all.pdf\"))"
   ]
  },
  {
   "cell_type": "code",
   "execution_count": null,
   "metadata": {},
   "outputs": [],
   "source": [
    "extent_1 = axes[0,0].get_window_extent()\n",
    "extent_2 = axes[0,1].get_window_extent()\n",
    "extent_3 = axes[3,1].get_window_extent()\n",
    "print extent_1\n",
    "print extent_2\n",
    "\n",
    "print \"extent_3\", extent_3\n",
    "\n",
    "extent_1.x1 = extent_2.x1\n",
    "extent_1.y1 = extent_2.y1\n",
    "\n",
    "\n",
    "print extent_1\n",
    "extent = extent_1\n",
    "extent.x0 = 0\n",
    "extent.x1 = extent.x1 + 30\n",
    "extent = extent.transformed(fig.dpi_scale_trans.inverted())\n",
    "fig.savefig( os.path.join(folder_name,\"tricks_quant_plots_both.pdf\"), bbox_inches=extent.expanded(1,1.2))\n",
    "\n",
    "\n",
    "extent = axes[0,0].get_window_extent()\n",
    "extent.x0 = 0\n",
    "extent.x1 = extent.x1 + 30\n",
    "extent.y0 = extent.y0 - 45\n",
    "extent = extent.transformed(fig.dpi_scale_trans.inverted())\n",
    "fig.savefig(os.path.join(folder_name, \"tricks_quant_plots_single.pdf\"), bbox_inches=extent.expanded(1,1))\n",
    "\n",
    "\n",
    "extent = axes[3,1].get_window_extent()\n",
    "extent.x0 = extent.x0 - 33\n",
    "extent.x1 = extent.x1 + 15\n",
    "extent.y0 = extent.y0 - 45\n",
    "extent.y1 = extent.y1 + 10\n",
    "extent = extent.transformed(fig.dpi_scale_trans.inverted())\n",
    "fig.savefig(os.path.join(folder_name, \"tricks_fraction_false_positives.pdf\"), bbox_inches=extent.expanded(1,1))\n",
    "\n"
   ]
  },
  {
   "cell_type": "markdown",
   "metadata": {},
   "source": [
    "# Separating Distinct Objects"
   ]
  },
  {
   "cell_type": "code",
   "execution_count": null,
   "metadata": {},
   "outputs": [],
   "source": [
    "# p = DCEP()\n",
    "# dc_source_dir = utils.getDenseCorrespondenceSourceDir()\n",
    "\n",
    "# analysis_folder = analysis_folders[0]\n",
    "# path_to_csv = os.path.join(model_folder, analysis_folder, \n",
    "#                            \"across_object/data.csv\")\n",
    "# fig_axes = DCEP.run_on_single_dataframe_across_objects(path_to_csv, label=analysis_folder, save=False)\n",
    "\n",
    "# for analysis_folder in analysis_folders[1:]:\n",
    "#     path_to_csv = os.path.join(model_folder, \n",
    "#                                analysis_folder, \"across_object/data.csv\")\n",
    "#     fig_axes = DCEP.run_on_single_dataframe_across_objects(path_to_csv, label=analysis_folder, previous_fig_axes=fig_axes, save=False)\n",
    "\n",
    "# _, axes = fig_axes\n",
    "# # axes[0].set_title(\"Across Object\")\n",
    "# plt.show()"
   ]
  },
  {
   "cell_type": "code",
   "execution_count": null,
   "metadata": {},
   "outputs": [],
   "source": []
  }
 ],
 "metadata": {
  "kernelspec": {
   "display_name": "Python 2",
   "language": "python",
   "name": "python2"
  },
  "language_info": {
   "codemirror_mode": {
    "name": "ipython",
    "version": 2
   },
   "file_extension": ".py",
   "mimetype": "text/x-python",
   "name": "python",
   "nbconvert_exporter": "python",
   "pygments_lexer": "ipython2",
   "version": "2.7.12"
  }
 },
 "nbformat": 4,
 "nbformat_minor": 2
}
